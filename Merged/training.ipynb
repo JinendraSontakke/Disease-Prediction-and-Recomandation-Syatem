{
 "cells": [
  {
   "cell_type": "code",
   "execution_count": null,
   "metadata": {},
   "outputs": [],
   "source": [
    "print(\"Hi.\")"
   ]
  },
  {
   "cell_type": "code",
   "execution_count": null,
   "metadata": {},
   "outputs": [],
   "source": [
    "import numpy as np\n",
    "import matplotlib.pyplot as plt\n",
    "import pandas as pd\n",
    "import pickle\n",
    "import seaborn as sns\n",
    "from sklearn.model_selection import train_test_split\n",
    "from sklearn import svm\n",
    "from sklearn.ensemble import RandomForestClassifier\n",
    "from sklearn.metrics import accuracy_score\n",
    "print(\"Imported\")"
   ]
  },
  {
   "cell_type": "code",
   "execution_count": null,
   "metadata": {},
   "outputs": [],
   "source": [
    "data = pd.read_csv('./diabetes.csv')\n",
    "data_max = data.max()\n",
    "data_min = data.min()\n",
    "data_mean = data.mean()\n"
   ]
  },
  {
   "cell_type": "code",
   "execution_count": null,
   "metadata": {},
   "outputs": [],
   "source": [
    "data.head(5)\n"
   ]
  },
  {
   "cell_type": "code",
   "execution_count": null,
   "metadata": {},
   "outputs": [],
   "source": [
    "data\n"
   ]
  },
  {
   "cell_type": "markdown",
   "metadata": {},
   "source": [
    "# Exploration:"
   ]
  },
  {
   "cell_type": "code",
   "execution_count": null,
   "metadata": {},
   "outputs": [],
   "source": [
    "data.shape\n"
   ]
  },
  {
   "cell_type": "code",
   "execution_count": null,
   "metadata": {},
   "outputs": [],
   "source": [
    "data.info()\n"
   ]
  },
  {
   "cell_type": "code",
   "execution_count": null,
   "metadata": {},
   "outputs": [],
   "source": [
    "data.describe()\n"
   ]
  },
  {
   "cell_type": "markdown",
   "metadata": {},
   "source": [
    "# Normalization: Bringing data in the range of -1 to 1."
   ]
  },
  {
   "cell_type": "code",
   "execution_count": null,
   "metadata": {},
   "outputs": [],
   "source": [
    "# x = data.groupby('Age')  # ['Outcome'].count()\n",
    "# y = data.groupby('Age')['Outcome'].value_counts()\n",
    "# arr = [i for i in data.Age]\n",
    "# plt.figure(figsize=(20, 3))\n",
    "# y.plot.bar()\n",
    "# plt.show()\n"
   ]
  },
  {
   "cell_type": "code",
   "execution_count": null,
   "metadata": {},
   "outputs": [],
   "source": [
    "# for i in range(len(data)):\n",
    "#     if data['Pregnancies'][i] == 0:\n",
    "#         data.at[]\n",
    "#     if data['Glucose'][i] == 0:\n",
    "#         data.at[]\n",
    "#     if data['BloodPressure'][i] == 0:\n",
    "#         data.at[]\n",
    "#     if data['SkinThickness'][i] == 0:\n",
    "#         data.at[]\n",
    "#     if data['Insulin'][i] == 0:\n",
    "#         data.at[]\n",
    "#     if data['BMI'][i] == 0:\n",
    "#         data.at[]\n",
    "#     if data['DiabetesPedigreeFunction'][i] == 0:\n",
    "#         data.at[]\n",
    "#     if data['Age'][i] == 0:\n",
    "#         data.at[]"
   ]
  },
  {
   "cell_type": "code",
   "execution_count": null,
   "metadata": {},
   "outputs": [],
   "source": [
    "# Normalization -> Bringing data in the range of -1 to 1.\n",
    "for i in range(len(data)):\n",
    "    data.at[i, 'Pregnancies'] = (data['Pregnancies'][i] - data_mean['Pregnancies']) / (data_max['Pregnancies'] - data_min['Pregnancies'])\n",
    "    data.at[i, 'Glucose'] = (data['Glucose'][i] - data_mean['Glucose']) / (data_max['Glucose'] - data_min['Glucose'])\n",
    "    data.at[i, 'BloodPressure'] = (data['BloodPressure'][i] - data_mean['BloodPressure']) / (data_max['BloodPressure'] - data_min['BloodPressure'])\n",
    "    data.at[i, 'SkinThickness'] = (data['SkinThickness'][i] - data_mean['SkinThickness']) / (data_max['SkinThickness'] - data_min['SkinThickness'])\n",
    "    data.at[i, 'Insulin'] = (data['Insulin'][i] - data_mean['Insulin']) / (data_max['Insulin'] - data_min['Insulin'])\n",
    "    data.at[i, 'BMI'] = (data['BMI'][i] - data_mean['BMI']) / (data_max['BMI'] - data_min['BMI'])\n",
    "    data.at[i, 'DiabetesPedigreeFunction'] = (data['DiabetesPedigreeFunction'][i] - data_mean['DiabetesPedigreeFunction']) / (data_max['DiabetesPedigreeFunction'] - data_min['DiabetesPedigreeFunction'])\n",
    "    data.at[i, 'Age'] = (data['Age'][i] - data_mean['Age']) / (data_max['Age'] - data_min['Age'])\n"
   ]
  },
  {
   "cell_type": "code",
   "execution_count": null,
   "metadata": {},
   "outputs": [],
   "source": [
    "x = data.drop('Outcome', axis=1)\n",
    "y = data.Outcome\n",
    "x_max = x.max()\n",
    "x_min = x.min()\n",
    "x_mean = x.mean()\n"
   ]
  },
  {
   "cell_type": "code",
   "execution_count": null,
   "metadata": {},
   "outputs": [],
   "source": [
    "x\n"
   ]
  },
  {
   "cell_type": "markdown",
   "metadata": {},
   "source": [
    "# Spliting Data"
   ]
  },
  {
   "cell_type": "code",
   "execution_count": null,
   "metadata": {},
   "outputs": [],
   "source": [
    "x_train, x_test, y_train, y_test = train_test_split(x, y, test_size=0.2, stratify=y, random_state=2)\n"
   ]
  },
  {
   "cell_type": "markdown",
   "metadata": {},
   "source": [
    "# Training"
   ]
  },
  {
   "cell_type": "code",
   "execution_count": null,
   "metadata": {},
   "outputs": [],
   "source": [
    "svm_classifier = svm.SVC(kernel='linear')\n"
   ]
  },
  {
   "cell_type": "code",
   "execution_count": null,
   "metadata": {},
   "outputs": [],
   "source": [
    "svm_classifier.fit(x_train.values, y_train.values)  # without feature names\n",
    "# svm_classifier.fit(x_train, y_train) # with feature\n"
   ]
  },
  {
   "cell_type": "code",
   "execution_count": null,
   "metadata": {},
   "outputs": [],
   "source": [
    "random_forest_classifier = RandomForestClassifier(n_estimators=100)\n"
   ]
  },
  {
   "cell_type": "code",
   "execution_count": null,
   "metadata": {},
   "outputs": [],
   "source": [
    "random_forest_classifier.fit(x_train.values, y_train.values)  # without feature names\n"
   ]
  },
  {
   "cell_type": "markdown",
   "metadata": {},
   "source": [
    "# Testing Accuracy"
   ]
  },
  {
   "cell_type": "code",
   "execution_count": null,
   "metadata": {},
   "outputs": [],
   "source": [
    "# Accuracy train data using SVM Classifier:\n",
    "x_train_prediction = svm_classifier.predict(x_train.values)\n",
    "print(accuracy_score(x_train_prediction, y_train)*100, '%')\n",
    "# Accuracy train data using Random Forest Classifier:\n",
    "x_train_prediction = random_forest_classifier.predict(x_train.values)\n",
    "print(accuracy_score(x_train_prediction, y_train)*100, '%')\n"
   ]
  },
  {
   "cell_type": "code",
   "execution_count": null,
   "metadata": {},
   "outputs": [],
   "source": [
    "# Accuracy test data using SVM Classifier:\n",
    "x_test_prediction = svm_classifier.predict(x_test.values)\n",
    "print(accuracy_score(x_test_prediction, y_test)*100, '%')\n",
    "# Accuracy test data using Random Forest Classifier:\n",
    "x_test_prediction = random_forest_classifier.predict(x_test.values)\n",
    "print(accuracy_score(x_test_prediction, y_test)*100, '%')\n"
   ]
  },
  {
   "cell_type": "markdown",
   "metadata": {},
   "source": [
    "# Prediction for new data"
   ]
  },
  {
   "cell_type": "code",
   "execution_count": null,
   "metadata": {},
   "outputs": [],
   "source": [
    "# input_data = [6, 148, 72, 35, 0, 33.6, 0.627, 50]  # Outcome should be: 1\n",
    "input_data = [1,  85, 66, 29, 0, 26.6, 0.351, 31]  # Outcome should be: 0\n",
    "input_data[0] = (input_data[0] - data_mean['Pregnancies']) / (data_max['Pregnancies'] - data_min['Pregnancies'])\n",
    "input_data[1] = (input_data[1] - data_mean['Glucose']) / (data_max['Glucose'] - data_min['Glucose'])\n",
    "input_data[2] = (input_data[2] - data_mean['BloodPressure']) / (data_max['BloodPressure'] - data_min['BloodPressure'])\n",
    "input_data[3] = (input_data[3] - data_mean['SkinThickness']) / (data_max['SkinThickness'] - data_min['SkinThickness'])\n",
    "input_data[4] = (input_data[4] - data_mean['Insulin']) / (data_max['Insulin'] - data_min['Insulin'])\n",
    "input_data[5] = (input_data[5] - data_mean['BMI']) / (data_max['BMI'] - data_min['BMI'])\n",
    "input_data[6] = (input_data[6] - data_mean['DiabetesPedigreeFunction']) / (data_max['DiabetesPedigreeFunction'] - data_min['DiabetesPedigreeFunction'])\n",
    "input_data[7] = (input_data[7] - data_mean['Age']) / (data_max['Age'] - data_min['Age'])\n",
    "# print(input_data)\n",
    "input_data_as_numpy_array = np.asarray(input_data)\n",
    "input_data_as_numpy_array_reshaped = input_data_as_numpy_array.reshape(1, -1)\n",
    "# print(input_data_as_numpy_array_reshaped)\n",
    "input_data_prediction = svm_classifier.predict(input_data_as_numpy_array_reshaped)\n",
    "print(input_data_prediction)\n"
   ]
  },
  {
   "cell_type": "markdown",
   "metadata": {},
   "source": [
    "# Dumping pickle file:"
   ]
  },
  {
   "cell_type": "code",
   "execution_count": null,
   "metadata": {},
   "outputs": [],
   "source": [
    "# Dump pickle file\n",
    "with open('svm_classifier_modle_for_diabetes.pkl', 'wb') as svm_classifier_modle_for_diabetes_file:\n",
    "    pickle.dump(svm_classifier, svm_classifier_modle_for_diabetes_file,protocol=pickle.HIGHEST_PROTOCOL)\n",
    "with open('data_max.pkl', 'wb') as data_max_file:\n",
    "    pickle.dump(data_max, data_max_file, protocol=pickle.HIGHEST_PROTOCOL)\n",
    "with open('data_min.pkl', 'wb') as data_min_file:\n",
    "    pickle.dump(data_min, data_min_file, protocol=pickle.HIGHEST_PROTOCOL)\n",
    "with open('data_mean.pkl', 'wb') as data_mean_file:\n",
    "    pickle.dump(data_mean, data_mean_file, protocol=pickle.HIGHEST_PROTOCOL)\n"
   ]
  }
 ],
 "metadata": {
  "kernelspec": {
   "display_name": "Python 3.11.0 64-bit",
   "language": "python",
   "name": "python3"
  },
  "language_info": {
   "codemirror_mode": {
    "name": "ipython",
    "version": 3
   },
   "file_extension": ".py",
   "mimetype": "text/x-python",
   "name": "python",
   "nbconvert_exporter": "python",
   "pygments_lexer": "ipython3",
   "version": "3.11.0"
  },
  "orig_nbformat": 4,
  "vscode": {
   "interpreter": {
    "hash": "5238573367df39f7286bb46f9ff5f08f63a01a80960060ce41e3c79b190280fa"
   }
  }
 },
 "nbformat": 4,
 "nbformat_minor": 2
}
